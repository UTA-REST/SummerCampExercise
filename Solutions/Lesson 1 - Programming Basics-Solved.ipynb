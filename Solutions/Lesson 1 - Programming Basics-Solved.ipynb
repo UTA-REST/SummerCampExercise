{
 "cells": [
  {
   "cell_type": "markdown",
   "metadata": {},
   "source": [
    "# Introduction to Programming in Python"
   ]
  },
  {
   "cell_type": "markdown",
   "metadata": {},
   "source": [
    "Welcome to an ipython notebook!  It lets you write computer code in the python programming language, and run it in blocks\n",
    "\n"
   ]
  },
  {
   "cell_type": "code",
   "execution_count": 4,
   "metadata": {},
   "outputs": [],
   "source": [
    "\n",
    "# Lines that start with a hash sign like these are comments.  The python interpretter\n",
    "# ignores them.  You can write as many as you want.  Comments are usually used to \n",
    "# remind you, and explain to others, what your code does. Good programmers place \n",
    "# comments throughout their code to document it."
   ]
  },
  {
   "cell_type": "code",
   "execution_count": 5,
   "metadata": {},
   "outputs": [
    {
     "name": "stdout",
     "output_type": "stream",
     "text": [
      "The first line of code!\n"
     ]
    }
   ],
   "source": [
    "# This is the second block of code in the notebook. The first block did not actually do\n",
    "# anything - it was all comments.  This block does something, though. You can run it with \n",
    "# shift+enter.  \n",
    "\n",
    "print(\"The first line of code!\")"
   ]
  },
  {
   "cell_type": "code",
   "execution_count": 6,
   "metadata": {},
   "outputs": [
    {
     "name": "stdout",
     "output_type": "stream",
     "text": [
      "The second line of code!\n"
     ]
    }
   ],
   "source": [
    "# In this block, make the program output \"the second line of code!\"\n",
    "print(\"The second line of code!\")"
   ]
  },
  {
   "cell_type": "code",
   "execution_count": 7,
   "metadata": {},
   "outputs": [
    {
     "name": "stdout",
     "output_type": "stream",
     "text": [
      "4\n",
      "102\n"
     ]
    }
   ],
   "source": [
    "# OK.  We can also to simple math.  Like adding two numbers\n",
    "\n",
    "print(1+3)\n",
    "print(3*34)"
   ]
  },
  {
   "cell_type": "code",
   "execution_count": 8,
   "metadata": {},
   "outputs": [
    {
     "name": "stdout",
     "output_type": "stream",
     "text": [
      "113.89999999999999\n"
     ]
    }
   ],
   "source": [
    "# Those were whole numbers (integers, or ints)  We can do non-whole ones (floats) too:\n",
    "\n",
    "print(3.4*33.5)"
   ]
  },
  {
   "cell_type": "code",
   "execution_count": 9,
   "metadata": {},
   "outputs": [
    {
     "name": "stdout",
     "output_type": "stream",
     "text": [
      "2.5\n"
     ]
    }
   ],
   "source": [
    "print(5/2)\n",
    "\n"
   ]
  },
  {
   "cell_type": "markdown",
   "metadata": {},
   "source": [
    "Great. Now we're programming. The next thing we need to know about are variables. A variable is a container that stores something.  In almost all programming langauges, variables can store numbers, strings, or complicated programming objects. To fill, or \"assign\" a variable, use the \"=\" sign.\n",
    "\n"
   ]
  },
  {
   "cell_type": "code",
   "execution_count": 10,
   "metadata": {},
   "outputs": [
    {
     "name": "stdout",
     "output_type": "stream",
     "text": [
      "6\n"
     ]
    }
   ],
   "source": [
    "\n",
    "a=5\n",
    "print(a+1)"
   ]
  },
  {
   "cell_type": "code",
   "execution_count": 11,
   "metadata": {},
   "outputs": [
    {
     "name": "stdout",
     "output_type": "stream",
     "text": [
      "10.0\n"
     ]
    }
   ],
   "source": [
    "# In this block, define two variables b and c containing numbers 5 and 6, and print their sum\n",
    "b=5.\n",
    "c=6.\n",
    "print(a+b)"
   ]
  },
  {
   "cell_type": "code",
   "execution_count": 12,
   "metadata": {},
   "outputs": [
    {
     "name": "stdout",
     "output_type": "stream",
     "text": [
      "0.8333333333333334\n"
     ]
    }
   ],
   "source": [
    "# Print their ratio.\n",
    "print(b/c)"
   ]
  },
  {
   "cell_type": "code",
   "execution_count": 13,
   "metadata": {},
   "outputs": [
    {
     "name": "stdout",
     "output_type": "stream",
     "text": [
      "These variables contain strings\n"
     ]
    }
   ],
   "source": [
    "\n",
    "d=\"These variables contain\"\n",
    "e=\" strings\"\n",
    "print(d+e)"
   ]
  },
  {
   "cell_type": "markdown",
   "metadata": {},
   "source": [
    "Python is special among programming languages because it is \"typless\".  You don't have to tell is what a variable will contain, you just assign it.   For example, a line of text, or a \"string\", can be put into a variable with quotes \"\""
   ]
  },
  {
   "cell_type": "code",
   "execution_count": 14,
   "metadata": {},
   "outputs": [
    {
     "name": "stdout",
     "output_type": "stream",
     "text": [
      "The variable (a) contains 5 and the next number is 6\n"
     ]
    }
   ],
   "source": [
    "# You can print several things on one line:\n",
    "print(\"The variable (a) contains\",a, \"and the next number is\", a+1 )"
   ]
  },
  {
   "cell_type": "code",
   "execution_count": 15,
   "metadata": {},
   "outputs": [
    {
     "name": "stdout",
     "output_type": "stream",
     "text": [
      "variable (b) contains  5.0 and variable (c) contains 6.0 and their sum is 11.0\n"
     ]
    }
   ],
   "source": [
    "# Write a line of code like the one above to tell us b, c and their sum\n",
    "print(\"variable (b) contains \",b,\"and variable (c) contains\",c,\"and their sum is\",b+c)"
   ]
  },
  {
   "cell_type": "code",
   "execution_count": 16,
   "metadata": {},
   "outputs": [
    {
     "name": "stdout",
     "output_type": "stream",
     "text": [
      "variable (b) contains  5.0 and variable (c) contains 6.0 and their product is 30.0\n"
     ]
    }
   ],
   "source": [
    "# Write a line of code like the one above to tell us b, c and their product\n",
    "print(\"variable (b) contains \",b,\"and variable (c) contains\",c,\"and their product is\",b*c)"
   ]
  },
  {
   "cell_type": "code",
   "execution_count": 17,
   "metadata": {},
   "outputs": [
    {
     "name": "stdout",
     "output_type": "stream",
     "text": [
      "The hypotenuse length is 7.810249675906654\n"
     ]
    }
   ],
   "source": [
    "# Consider a right angle triangle with side lenghts b and c.  Write code to\n",
    "# tell us the length of the hypotenuse\n",
    "#  note, powers can be evaluated with pow(b,c) or with b**c  \n",
    "#  For example, square root of a is pow(a,0.5) or a**0.5\n",
    "print(\"The hypotenuse length is\",(b**2+c**2)**0.5)"
   ]
  },
  {
   "cell_type": "code",
   "execution_count": 18,
   "metadata": {},
   "outputs": [],
   "source": [
    "# Change the value of b by executing this line, and re-run the above 3 blocks\n",
    "b=11.3453643"
   ]
  },
  {
   "cell_type": "code",
   "execution_count": 19,
   "metadata": {},
   "outputs": [
    {
     "name": "stdout",
     "output_type": "stream",
     "text": [
      "The velocity is 10.295630140987\n"
     ]
    }
   ],
   "source": [
    "# A particle has the following velocity components:\n",
    "#  vx is 3 ms^-1\n",
    "#  vy is 4 ms^-1\n",
    "#  vz is 9 ms^-1\n",
    "# Store these in variables. Write code to evaluate the total speed and print it to screen.\n",
    "vx=3\n",
    "vy=4\n",
    "vz=9\n",
    "v=(vx*vx + vy*vy + vz*vz)**0.5\n",
    "print(\"The velocity is\",v)"
   ]
  },
  {
   "cell_type": "markdown",
   "metadata": {},
   "source": [
    "# Flow control (if)"
   ]
  },
  {
   "cell_type": "markdown",
   "metadata": {},
   "source": [
    "An important component of computer programs is the if statement.  If statements work like this.  Notice the indentation - the first indented block is what gets run, if the test statement evaluares true. The second is what runs if it evaluates false:"
   ]
  },
  {
   "cell_type": "code",
   "execution_count": 20,
   "metadata": {},
   "outputs": [
    {
     "name": "stdout",
     "output_type": "stream",
     "text": [
      "a is smaller than b!\n"
     ]
    }
   ],
   "source": [
    "\n",
    "a=1\n",
    "b=5\n",
    "\n",
    "if(a>b): \n",
    "    print(\"a is bigger than b!\")\n",
    "else:\n",
    "    print(\"a is smaller than b!\")"
   ]
  },
  {
   "cell_type": "markdown",
   "metadata": {},
   "source": [
    "In python, program flow is all controlled by indentation:\n",
    "\n"
   ]
  },
  {
   "cell_type": "code",
   "execution_count": 21,
   "metadata": {},
   "outputs": [
    {
     "name": "stdout",
     "output_type": "stream",
     "text": [
      "test 1...\n",
      "yes it is!\n"
     ]
    }
   ],
   "source": [
    "print(\"test 1...\")\n",
    "\n",
    "if(a<b): \n",
    "    print(\"yes it is!\")\n",
    "if(a>b): \n",
    "    print(\"no it isn't!\")"
   ]
  },
  {
   "cell_type": "code",
   "execution_count": 22,
   "metadata": {},
   "outputs": [
    {
     "name": "stdout",
     "output_type": "stream",
     "text": [
      "test 2...\n",
      "yes it is!\n"
     ]
    }
   ],
   "source": [
    "print(\"test 2...\")\n",
    "\n",
    "if(a<b): \n",
    "    print(\"yes it is!\")\n",
    "    if(a>b): \n",
    "        print(\"no it isn't!\")"
   ]
  },
  {
   "cell_type": "code",
   "execution_count": 23,
   "metadata": {},
   "outputs": [
    {
     "ename": "IndentationError",
     "evalue": "expected an indented block (<ipython-input-23-9b4b35da3f68>, line 4)",
     "output_type": "error",
     "traceback": [
      "\u001b[0;36m  File \u001b[0;32m\"<ipython-input-23-9b4b35da3f68>\"\u001b[0;36m, line \u001b[0;32m4\u001b[0m\n\u001b[0;31m    print(\"yes it is!\")\u001b[0m\n\u001b[0m        ^\u001b[0m\n\u001b[0;31mIndentationError\u001b[0m\u001b[0;31m:\u001b[0m expected an indented block\n"
     ]
    }
   ],
   "source": [
    "print(\"test 3...\")\n",
    "\n",
    "if(a<b): \n",
    "print(\"yes it is!\")\n",
    "if(a>b): \n",
    "print(\"no it isn't!\")"
   ]
  },
  {
   "cell_type": "code",
   "execution_count": 24,
   "metadata": {},
   "outputs": [
    {
     "name": "stdout",
     "output_type": "stream",
     "text": [
      "It is smaller\n"
     ]
    }
   ],
   "source": [
    "# Write code to test if a*b is bigger than 6 and write the answer to screen.\n",
    "if(a*b>6):\n",
    "    print(\"It is bigger\")\n",
    "else:\n",
    "    print(\"It is smaller\")"
   ]
  },
  {
   "cell_type": "code",
   "execution_count": 25,
   "metadata": {},
   "outputs": [],
   "source": [
    "# change the values of a and b to get the oposite answer, and re-run the code above.\n",
    "a=1\n",
    "b=10\n"
   ]
  },
  {
   "cell_type": "code",
   "execution_count": 26,
   "metadata": {},
   "outputs": [
    {
     "name": "stdout",
     "output_type": "stream",
     "text": [
      "It is going forwards in z\n"
     ]
    }
   ],
   "source": [
    "# Write code to test whether the particle with velocity defined above is going\n",
    "# forwards or backwards in z, and write the answer to the screen.\n",
    "if(vz>0):\n",
    "    print(\"It is going forwards in z\")\n",
    "else:\n",
    "    print(\"It is going backwards in z\")"
   ]
  },
  {
   "cell_type": "markdown",
   "metadata": {},
   "source": [
    "We used > to test if a was bigger than b.\n",
    "Other comparative statements look like this:\n",
    "\n",
    " == (Equal) \n",
    " \n",
    " != (Not Equal) \n",
    " \n",
    " < (Less) \n",
    " \n",
    " \\> (Greater)      \n",
    " \n",
    " <= (Less than or equal)\n",
    " \n",
    " \\>= (Greater than or equal)\n",
    " \n",
    "\n"
   ]
  },
  {
   "cell_type": "code",
   "execution_count": 27,
   "metadata": {},
   "outputs": [
    {
     "name": "stdout",
     "output_type": "stream",
     "text": [
      "1==3 False\n",
      "1==1 True\n",
      "1>1 False\n",
      "1>=1 True\n",
      "1>3 False\n",
      "1!=1 False\n",
      "1!=3 True\n",
      "-----\n",
      "It is False that 1!=1\n",
      "It is True that 1!=3\n"
     ]
    }
   ],
   "source": [
    "\n",
    "print(\"1==3\", (1==3))\n",
    "print(\"1==1\", (1==1))\n",
    "print(\"1>1\", (1>1))\n",
    "print(\"1>=1\", (1>=1))\n",
    "print(\"1>3\", (1>1))\n",
    "print(\"1!=1\", (1!=1))\n",
    "print(\"1!=3\", (1!=3))\n",
    "\n",
    "print(\"-----\")\n",
    "\n",
    "if 1!=1:\n",
    "    print(\"It is True that 1!=1\")\n",
    "else:\n",
    "    print(\"It is False that 1!=1\")\n",
    "    \n",
    "if 1!=3:\n",
    "    print(\"It is True that 1!=3\")\n",
    "else:\n",
    "    print(\"It is False that 1!=3\")"
   ]
  },
  {
   "cell_type": "markdown",
   "metadata": {},
   "source": [
    "# Lists"
   ]
  },
  {
   "cell_type": "code",
   "execution_count": 28,
   "metadata": {},
   "outputs": [
    {
     "name": "stdout",
     "output_type": "stream",
     "text": [
      "[10, 20, 30, 40]\n"
     ]
    }
   ],
   "source": [
    "# As well as simple numbers, variables can also store lists of numbers.  A list\n",
    "#  in python looks like this:\n",
    "\n",
    "a=[10,20,30,40]\n",
    "print(a)"
   ]
  },
  {
   "cell_type": "code",
   "execution_count": 29,
   "metadata": {},
   "outputs": [
    {
     "name": "stdout",
     "output_type": "stream",
     "text": [
      "10\n",
      "40\n"
     ]
    }
   ],
   "source": [
    "# You can access elements of arrays like this.  The first element is always index 0.\n",
    "\n",
    "print(a[0])\n",
    "print(a[3])"
   ]
  },
  {
   "cell_type": "code",
   "execution_count": 30,
   "metadata": {},
   "outputs": [
    {
     "name": "stdout",
     "output_type": "stream",
     "text": [
      "[10, 20, 30]\n",
      "[20]\n"
     ]
    }
   ],
   "source": [
    "# You can also \"slice\" out parts of a list, like this:\n",
    "\n",
    "print(a[0:3])\n",
    "print(a[1:2])"
   ]
  },
  {
   "cell_type": "code",
   "execution_count": 31,
   "metadata": {},
   "outputs": [
    {
     "name": "stdout",
     "output_type": "stream",
     "text": [
      "[30, 40]\n",
      "[10, 20]\n",
      "[10, 20]\n"
     ]
    }
   ],
   "source": [
    "# Index -1 means take the last element (-2 means econd last, etc).  Leaving it blank before or \n",
    "# after the : means slice to the end.\n",
    "\n",
    "print(a[2:])\n",
    "print(a[0:-2])\n",
    "print(a[:2])"
   ]
  },
  {
   "cell_type": "code",
   "execution_count": 32,
   "metadata": {},
   "outputs": [
    {
     "name": "stdout",
     "output_type": "stream",
     "text": [
      "['parrot', 'T-Rex', 'liger', 'a llama']\n",
      "['parrot', 'T-Rex', 'liger', 'a llama', 'The Dalai Lama', 'sheep']\n",
      "['a llama', 'The Dalai Lama']\n"
     ]
    }
   ],
   "source": [
    "# Starting from the list below, slice out and store in a new list:\n",
    "#  a) elements 2 to 6\n",
    "#  b) element 2 to end\n",
    "#  c) the third last to the last element\n",
    "\n",
    "the_list=[\"dog\",\"cat\",\"parrot\",\"T-Rex\",\"liger\",\"a llama\",\"The Dalai Lama\",\"sheep\"]\n",
    "\n",
    "list_a=the_list[2:6]\n",
    "list_b=the_list[2:]\n",
    "list_c=the_list[-3:-1]\n",
    "\n",
    "print(list_a)\n",
    "print(list_b)\n",
    "print(list_c)"
   ]
  },
  {
   "cell_type": "code",
   "execution_count": 33,
   "metadata": {},
   "outputs": [
    {
     "name": "stdout",
     "output_type": "stream",
     "text": [
      "4\n"
     ]
    }
   ],
   "source": [
    "# The length of a list can be obtained with the len() keyword:\n",
    "\n",
    "print(len(a))"
   ]
  },
  {
   "cell_type": "code",
   "execution_count": 34,
   "metadata": {},
   "outputs": [
    {
     "name": "stdout",
     "output_type": "stream",
     "text": [
      "range(0, 10)\n"
     ]
    }
   ],
   "source": [
    "# You don't always have to define lists by hand.  The range command makes a list like this:\n",
    "\n",
    "b=range(0,10)\n",
    "print(b)"
   ]
  },
  {
   "cell_type": "code",
   "execution_count": 35,
   "metadata": {},
   "outputs": [
    {
     "name": "stdout",
     "output_type": "stream",
     "text": [
      "range(99, 109)\n"
     ]
    }
   ],
   "source": [
    "c=range(99, 109)\n",
    "print(c)"
   ]
  },
  {
   "cell_type": "markdown",
   "metadata": {},
   "source": [
    "# Loops (for)"
   ]
  },
  {
   "cell_type": "code",
   "execution_count": 36,
   "metadata": {},
   "outputs": [
    {
     "name": "stdout",
     "output_type": "stream",
     "text": [
      "i= 0  and i^2= 0\n",
      "i= 1  and i^2= 1\n",
      "i= 2  and i^2= 4\n",
      "i= 3  and i^2= 9\n",
      "i= 4  and i^2= 16\n",
      "i= 5  and i^2= 25\n",
      "i= 6  and i^2= 36\n",
      "i= 7  and i^2= 49\n",
      "i= 8  and i^2= 64\n",
      "i= 9  and i^2= 81\n"
     ]
    }
   ],
   "source": [
    "# Lists can also be used to make loops using the for command.  It works like this:\n",
    "for i in range(0,10):\n",
    "    print(\"i=\",i, \" and i^2=\", pow(i,2))"
   ]
  },
  {
   "cell_type": "code",
   "execution_count": 37,
   "metadata": {},
   "outputs": [],
   "source": [
    "# In programming, there are usually several ways to do the same thing. Consider this list:\n",
    "animals=[\"cat\",\"dog\",\"bear\",\"duck\",\"unicorn\"]\n"
   ]
  },
  {
   "cell_type": "code",
   "execution_count": 38,
   "metadata": {},
   "outputs": [
    {
     "name": "stdout",
     "output_type": "stream",
     "text": [
      "Method 1:\n",
      "cat and dog and bear and duck and unicorn and  the rest\n"
     ]
    }
   ],
   "source": [
    "#These two pieces of code serve the same function, for example\n",
    "print(\"Method 1:\")\n",
    "String = \"\"\n",
    "for a in animals:\n",
    "    String =String + a + \" and \"\n",
    "print(String,\"the rest\")"
   ]
  },
  {
   "cell_type": "code",
   "execution_count": 39,
   "metadata": {},
   "outputs": [
    {
     "name": "stdout",
     "output_type": "stream",
     "text": [
      "Method 2:\n",
      "cat and dog and bear and duck and unicorn and   the rest\n"
     ]
    }
   ],
   "source": [
    "print(\"Method 2:\")\n",
    "String = \"\"\n",
    "for i in range(0, len(animals)):\n",
    "    String += animals[i]\n",
    "    String += \" and \"\n",
    "String+=\"  the rest\"\n",
    "print(String)\n",
    "    "
   ]
  },
  {
   "cell_type": "markdown",
   "metadata": {},
   "source": [
    "There are a lot more python commands than the ones we just taught you.  There are also a lot of packages that extend pythons functionality for complicated math, and plotting. We will look at some of these tomorrow.  But with these basic ingredients : math, printing, lists, loops, flow control, we will be able to write programs to search for new particles in LHC data.  We'll finish up with an exercise to practice looping and and math:"
   ]
  },
  {
   "cell_type": "code",
   "execution_count": 40,
   "metadata": {},
   "outputs": [],
   "source": [
    "# Exercise: Write code to evaluate the first 100 fibonacci numbers.\n",
    "# Print the number, and the ratio of the nth and (n+1)th number to the screen\n",
    "# Save the 99th ratio to a variable called \"golden_ratio\"\n",
    "\n",
    "a=1.\n",
    "b=1.\n",
    "for i in range(0,100):\n",
    "    c=b+a\n",
    "    if(i==99):\n",
    "        golden_ratio=c/b\n",
    "    a=b\n",
    "    b=c"
   ]
  },
  {
   "cell_type": "code",
   "execution_count": 41,
   "metadata": {},
   "outputs": [],
   "source": [
    "# Don't worry about what this block does, just run it for now. We'll talk about\n",
    "# it tomorrow.\n",
    "import numpy\n",
    "import matplotlib\n",
    "import pylab\n",
    "%matplotlib inline\n"
   ]
  },
  {
   "cell_type": "code",
   "execution_count": 42,
   "metadata": {},
   "outputs": [
    {
     "data": {
      "text/plain": [
       "Text(0.5,1,'The Golden Spiral')"
      ]
     },
     "execution_count": 42,
     "metadata": {},
     "output_type": "execute_result"
    },
    {
     "data": {
      "image/png": "[encoded data removed]",
      "text/plain": [
       "<matplotlib.figure.Figure at 0x10b96f208>"
      ]
     },
     "metadata": {},
     "output_type": "display_data"
    }
   ],
   "source": [
    "# Now we'll draw the golden spiral using the golden ratio you calculated.\n",
    "\n",
    "# Make a list of theta values corresponding to 3 rotations\n",
    "theta_values = numpy.arange(0, 6*numpy.pi, 0.1)\n",
    "\n",
    "# A golden spiral has a radius that grows as it rotates,\n",
    "#  with a rate that depends on the golden ratio:\n",
    "spiral_growth_factor = numpy.log(golden_ratio)/(numpy.pi/2.)\n",
    "r_values = numpy.exp(spiral_growth_factor*theta_values)\n",
    "\n",
    "# Get the x and y values\n",
    "x_values = r_values * numpy.sin(theta_values)\n",
    "y_values = r_values * numpy.cos(theta_values)\n",
    "\n",
    "# make a plot\n",
    "pylab.figure(figsize=(5,5))\n",
    "pylab.plot(x_values,y_values,'.')\n",
    "pylab.xlim(-400,400)\n",
    "pylab.ylim(-400,400)\n",
    "pylab.xlabel(\"X\")\n",
    "pylab.ylabel(\"Y\")\n",
    "pylab.title(\"The Golden Spiral\")"
   ]
  },
  {
   "cell_type": "markdown",
   "metadata": {},
   "source": [
    "This is a very interesting spiral indeed.\n",
    "\n",
    "http://www.goldennumber.net/wp-content/uploads/2013/08/nautilus-shell-with-golden-ratio-spiral-overlay.gif\n",
    "\n",
    "https://i.kinja-img.com/gawker-media/image/upload/s--rJC4FAZh--/c_fit,fl_progressive,q_80,w_636/18f8hbfn5ag1yjpg.jpg"
   ]
  },
  {
   "cell_type": "code",
   "execution_count": null,
   "metadata": {},
   "outputs": [],
   "source": []
  },
  {
   "cell_type": "code",
   "execution_count": null,
   "metadata": {},
   "outputs": [],
   "source": []
  },
  {
   "cell_type": "code",
   "execution_count": null,
   "metadata": {},
   "outputs": [],
   "source": []
  }
 ],
 "metadata": {
  "kernelspec": {
   "display_name": "Python 3",
   "language": "python",
   "name": "python3"
  },
  "language_info": {
   "codemirror_mode": {
    "name": "ipython",
    "version": 3
   },
   "file_extension": ".py",
   "mimetype": "text/x-python",
   "name": "python",
   "nbconvert_exporter": "python",
   "pygments_lexer": "ipython3",
   "version": "3.6.5"
  }
 },
 "nbformat": 4,
 "nbformat_minor": 1
}
