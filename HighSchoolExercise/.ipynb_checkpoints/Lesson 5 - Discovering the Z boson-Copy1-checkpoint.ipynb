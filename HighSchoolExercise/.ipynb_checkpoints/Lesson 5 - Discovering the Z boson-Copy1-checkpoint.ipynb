{
 "cells": [
  {
   "cell_type": "code",
   "execution_count": null,
   "metadata": {
    "collapsed": true
   },
   "outputs": [],
   "source": [
    "#Imports etc\n",
    "import matplotlib \n",
    "import numpy\n",
    "import pylab\n",
    "%matplotlib inline"
   ]
  },
  {
   "cell_type": "markdown",
   "metadata": {},
   "source": [
    "Last time we may have seen hints of new, heavy particles by looking at oposite sign di-leptons.  Because of momentum conservation we should be able to see the true smoking-gun, a mass peak.  If we can see a clear mass peak, we have found evidence of a new heavy particle in collider data.  This is how the Higgs boson, and numerous others, were discovered.\n",
    "\n"
   ]
  },
  {
   "cell_type": "code",
   "execution_count": null,
   "metadata": {
    "collapsed": true
   },
   "outputs": [],
   "source": [
    "# Exercise : load your data samples.  Calculate the invariant mass of the\n",
    "#            highest energy lepton pairs in each sub-category\n",
    "\n",
    "#            Histogram the invariant masses.  What do you see?\n",
    "\n",
    "\n",
    "\n",
    "EE=numpy.loadtxt(\"ee.txt\")\n",
    "EMu=numpy.loadtxt(\"emu.txt\")\n",
    "MuMu=numpy.loadtxt(\"mumu.txt\")\n",
    "\n",
    "InvMassEE=[]\n",
    "InvMassEMu=[]\n",
    "InvMassMuMu=[]\n",
    "for ev in EE:\n",
    "    Total_E  = ev[5]+ev[10]\n",
    "    Total_px = ev[2]+ev[7]\n",
    "    Total_px = ev[3]+ev[8]\n",
    "    Total_px = ev[4]+ev[9]\n",
    "    \n",
    "    InvMass=TotalE**2-Tot\n",
    "    InvMass.append()"
   ]
  }
 ],
 "metadata": {
  "kernelspec": {
   "display_name": "Python 2",
   "language": "python",
   "name": "python2"
  },
  "language_info": {
   "codemirror_mode": {
    "name": "ipython",
    "version": 2
   },
   "file_extension": ".py",
   "mimetype": "text/x-python",
   "name": "python",
   "nbconvert_exporter": "python",
   "pygments_lexer": "ipython2",
   "version": "2.7.11"
  }
 },
 "nbformat": 4,
 "nbformat_minor": 0
}
