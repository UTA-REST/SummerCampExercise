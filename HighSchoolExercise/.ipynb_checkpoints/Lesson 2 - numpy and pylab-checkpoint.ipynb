{
 "cells": [
  {
   "cell_type": "markdown",
   "metadata": {},
   "source": [
    "Credit: This session is based heavily on work by Kyle Jero at UWMadison\n",
    "http://icecube.wisc.edu/~kjero/Bootcamp/2015/Notebooks/Python_Introduction.html"
   ]
  },
  {
   "cell_type": "markdown",
   "metadata": {},
   "source": [
    "If we want to use libraries and modules not defined within the built-in \n",
    "functionality of python we have to import them. There are a number of ways to do this.  For these lessons, we'll do it like this:"
   ]
  },
  {
   "cell_type": "code",
   "execution_count": 1,
   "metadata": {
    "collapsed": true
   },
   "outputs": [],
   "source": [
    "import numpy\n",
    "import pylab\n",
    "import matplotlib\n",
    "%matplotlib inline"
   ]
  },
  {
   "cell_type": "markdown",
   "metadata": {},
   "source": [
    "\n",
    "Imports the module numpy and the module scipy, and creates a reference to that modules in the current namespace. Or in other words, after you’ve run this statement, you can use numpy.name and scipy.name to refer to things defined in module numpy and scipy respectively."
   ]
  },
  {
   "cell_type": "markdown",
   "metadata": {},
   "source": [
    "# Numpy"
   ]
  },
  {
   "cell_type": "markdown",
   "metadata": {},
   "source": [
    "The NumPy (Numeric Python) package provides basic routines for manipulating large arrays and matrices of numeric data.  The first thing we need to know about numpy is that it contains all the standard mathematical functions:"
   ]
  },
  {
   "cell_type": "code",
   "execution_count": 3,
   "metadata": {
    "collapsed": false
   },
   "outputs": [
    {
     "name": "stdout",
     "output_type": "stream",
     "text": [
      "2.11700001661 0.681638760023 0.866025403784 0.731688868874 0.643501108793\n"
     ]
    }
   ],
   "source": [
    "a=0.75\n",
    "print numpy.exp(a), numpy.sin(a), numpy.sqrt(a), numpy.cos(a), numpy.arctan(a)"
   ]
  },
  {
   "cell_type": "markdown",
   "metadata": {},
   "source": [
    "The second thing to know about numpy is the NumPy array type. Numpy arrays are similar to lists in Python, except that every element of an array must be of the same type, typically a numeric type like float or int. We came across floats and ints inadvertantly in the last lectures exercise.  A float, like 0.3884 or 5.0 can be a fractional number.  An integer like 5 must be a whole number.  Either can be positive or negative.\n",
    "\n",
    "Arrays make operations with large amounts of numeric data very fast and are generally much more efficient than lists. An array can be created from a list by using the array function. You can use the second argument to specify what type of data is in the list or leave it out entirely for numpy to decided what kind of data it is."
   ]
  },
  {
   "cell_type": "code",
   "execution_count": 5,
   "metadata": {
    "collapsed": false
   },
   "outputs": [
    {
     "name": "stdout",
     "output_type": "stream",
     "text": [
      "[ 1.  4.  5.  8.]\n",
      "<type 'numpy.ndarray'>\n"
     ]
    }
   ],
   "source": [
    "a = numpy.array([1, 4, 5, 8], float) \n",
    "print(a)\n",
    "print(type(a))"
   ]
  },
  {
   "cell_type": "markdown",
   "metadata": {},
   "source": [
    "Arrays can be multidimensional. Unlike lists, different axes are accessed using commas inside bracket notation. Here is an example with a two-dimensional array (aka, a matrix with rows and columns)"
   ]
  },
  {
   "cell_type": "code",
   "execution_count": 8,
   "metadata": {
    "collapsed": false
   },
   "outputs": [
    {
     "name": "stdout",
     "output_type": "stream",
     "text": [
      "[[ 1.  2.  3.]\n",
      " [ 4.  5.  6.]]\n",
      "1.0\n",
      "2.0\n"
     ]
    }
   ],
   "source": [
    "a = numpy.array([[1, 2, 3], [4, 5, 6]], float) \n",
    "print(a)\n",
    "print(a[0,0])\n",
    "print(a[0,1])"
   ]
  },
  {
   "cell_type": "markdown",
   "metadata": {},
   "source": [
    "We can ask for the shape of an array to find out how many rows and columns it has:"
   ]
  },
  {
   "cell_type": "code",
   "execution_count": 7,
   "metadata": {
    "collapsed": false
   },
   "outputs": [
    {
     "data": {
      "text/plain": [
       "(2, 3)"
      ]
     },
     "execution_count": 7,
     "metadata": {},
     "output_type": "execute_result"
    }
   ],
   "source": [
    "a.shape"
   ]
  },
  {
   "cell_type": "markdown",
   "metadata": {},
   "source": [
    "We can also use slicing just like we did for lists, in 1D or in 2D:"
   ]
  },
  {
   "cell_type": "code",
   "execution_count": 10,
   "metadata": {
    "collapsed": false
   },
   "outputs": [
    {
     "name": "stdout",
     "output_type": "stream",
     "text": [
      "[ 4.  5.  6.]\n",
      "[ 3.  6.]\n",
      "[[ 5.  6.]]\n"
     ]
    }
   ],
   "source": [
    "print(a[1,:])\n",
    "print(a[:,2])\n",
    "print(a[-1:,-2:])"
   ]
  },
  {
   "cell_type": "code",
   "execution_count": 14,
   "metadata": {
    "collapsed": false
   },
   "outputs": [
    {
     "name": "stdout",
     "output_type": "stream",
     "text": [
      "[ 22.]\n",
      "[ 12.  23.  33.]\n"
     ]
    }
   ],
   "source": [
    "# Create an array with first row 10, 11, 12, second row 21,21,23, third row 31,32,33\n",
    "# Extract and print:\n",
    "#   a) the first two elements of the middle row.\n",
    "#   b) the last column\n",
    "\n"
   ]
  },
  {
   "cell_type": "markdown",
   "metadata": {},
   "source": [
    "One of the major advantages of numpy arrays over lists, is that operations\n",
    "can be applied to all elements at once.  This makes many tedious tasks very \n",
    "fast and efficient:"
   ]
  },
  {
   "cell_type": "code",
   "execution_count": 15,
   "metadata": {
    "collapsed": false
   },
   "outputs": [
    {
     "name": "stdout",
     "output_type": "stream",
     "text": [
      "[ 6.  4.  9.]\n",
      "[-4.  0. -3.]\n",
      "[  5.   4.  18.]\n",
      "[ 0.2  1.   0.5]\n",
      "[   1.    4.  729.]\n",
      "[ 3.  4.  5.]\n",
      "[-1.  0.  1.]\n",
      "[ 2.  4.  6.]\n",
      "[ 0.5  1.   1.5]\n",
      "[ 1.  4.  9.]\n"
     ]
    }
   ],
   "source": [
    "\n",
    "a = numpy.array([1,2,3], float) \n",
    "b = numpy.array([5,2,6], float) \n",
    "c = 2\n",
    "print(a+b)\n",
    "print(a-b)\n",
    "print(a*b)\n",
    "print(a/b)\n",
    "print(a**b)\n",
    "print(a+c)\n",
    "print(a-c)\n",
    "print(a*c)\n",
    "print(a/c)\n",
    "print(a**c)\n"
   ]
  },
  {
   "cell_type": "markdown",
   "metadata": {},
   "source": [
    "Functions that can be applied to a single element are applied element-wise as well.\n"
   ]
  },
  {
   "cell_type": "code",
   "execution_count": 16,
   "metadata": {
    "collapsed": false
   },
   "outputs": [
    {
     "name": "stdout",
     "output_type": "stream",
     "text": [
      "[ 1.          1.41421356  1.73205081]\n",
      "[ 0.          0.69314718  1.09861229]\n"
     ]
    }
   ],
   "source": [
    "print(numpy.sqrt(a))\n",
    "print(numpy.log(a))"
   ]
  },
  {
   "cell_type": "markdown",
   "metadata": {},
   "source": [
    "Many operations that can be applied to an entire array are defined"
   ]
  },
  {
   "cell_type": "code",
   "execution_count": 18,
   "metadata": {
    "collapsed": false
   },
   "outputs": [
    {
     "name": "stdout",
     "output_type": "stream",
     "text": [
      "6.0\n",
      "6.0\n",
      "2.0\n",
      "0.666666666667\n",
      "2\n"
     ]
    }
   ],
   "source": [
    "print(numpy.sum(a))\n",
    "print(numpy.prod(a))\n",
    "print(numpy.mean(a))\n",
    "print(numpy.var(a))\n",
    "print(numpy.argmax(a))"
   ]
  },
  {
   "cell_type": "markdown",
   "metadata": {},
   "source": [
    "To append to an existing array, use the numpy.append command"
   ]
  },
  {
   "cell_type": "code",
   "execution_count": 19,
   "metadata": {
    "collapsed": false
   },
   "outputs": [
    {
     "name": "stdout",
     "output_type": "stream",
     "text": [
      "before [ 1.  2.  3.]\n",
      "after [    1.     2.     3.  1000.]\n"
     ]
    }
   ],
   "source": [
    "print \"before\",a\n",
    "a = numpy.append(a,1000)\n",
    "print \"after\", a"
   ]
  },
  {
   "cell_type": "markdown",
   "metadata": {},
   "source": [
    "Just like with lists, we can make automatically generated arrays"
   ]
  },
  {
   "cell_type": "code",
   "execution_count": 20,
   "metadata": {
    "collapsed": false
   },
   "outputs": [
    {
     "name": "stdout",
     "output_type": "stream",
     "text": [
      "[0 1 2 3 4]\n",
      "[ 0.   0.5  1.   1.5  2.   2.5  3.   3.5  4.   4.5]\n",
      "[ 0.   0.5  1.   1.5  2. ]\n",
      "[ 1.  1.  1.  1.  1.  1.  1.  1.  1.  1.]\n"
     ]
    }
   ],
   "source": [
    "print numpy.arange(0,5)       # like range() for lists\n",
    "print numpy.arange(0,5,0.5)   # can specify the step size\n",
    "print numpy.linspace(0,2,5)   # this makes a linearly spaced list with 11 elements\n",
    "print numpy.ones(10)           # this makes an array with ten 1's"
   ]
  },
  {
   "cell_type": "markdown",
   "metadata": {},
   "source": [
    "An empty array can be defined as follows, and we can append to it later"
   ]
  },
  {
   "cell_type": "code",
   "execution_count": 22,
   "metadata": {
    "collapsed": false
   },
   "outputs": [
    {
     "name": "stdout",
     "output_type": "stream",
     "text": [
      "[]\n",
      "[ 5.  6.]\n"
     ]
    }
   ],
   "source": [
    "a=numpy.array([])\n",
    "print a\n",
    "a=numpy.append(a,5)\n",
    "a=numpy.append(a,6)\n",
    "print a"
   ]
  },
  {
   "cell_type": "code",
   "execution_count": 39,
   "metadata": {
    "collapsed": false
   },
   "outputs": [],
   "source": [
    "# Make a numpy array first 30 the fibonacci number ratios\n",
    "# Calculate the average of the last 15 by slicing the array and applying a numpy function\n",
    "# print the avarage and the full list of 30 to screen\n"
   ]
  },
  {
   "cell_type": "code",
   "execution_count": 39,
   "metadata": {
    "collapsed": false
   },
   "outputs": [],
   "source": [
    "# Calculate n*(n-1) for all n between 1 and 100 in 2 lines, using numpy arrays\n"
   ]
  },
  {
   "cell_type": "markdown",
   "metadata": {},
   "source": [
    "#  Pylab"
   ]
  },
  {
   "cell_type": "markdown",
   "metadata": {},
   "source": [
    "Matplotlib allows easy plotting of 1 and 2 D graphics. Commonly when we access matplotlib we do so through pylab. Pylab provides a procedural interface to the matplotlib object-oriented plotting library.  Important commands are explained below with examples."
   ]
  },
  {
   "cell_type": "code",
   "execution_count": 40,
   "metadata": {
    "collapsed": false
   },
   "outputs": [
    {
     "data": {
      "image/png": "[encoded data removed]",
      "text/plain": [
       "<matplotlib.figure.Figure at 0x10700b350>"
      ]
     },
     "metadata": {},
     "output_type": "display_data"
    }
   ],
   "source": [
    "# This code draws plots of cos(x) and sin(x).  The plot command takes a list of x\n",
    "# values and y values, and plots them against eachoter.\n",
    "\n",
    "x=numpy.linspace(-numpy.pi,numpy.pi,1000)\n",
    "c=numpy.cos(x)\n",
    "s=numpy.sin(x)\n",
    "\n",
    "pylab.plot(x,c)\n",
    "pylab.plot(x,s)\n",
    "pylab.show()"
   ]
  },
  {
   "cell_type": "code",
   "execution_count": 43,
   "metadata": {
    "collapsed": false
   },
   "outputs": [],
   "source": [
    "# Draw a plot of log(x) and log(2x) between x=1 and x=100\n"
   ]
  },
  {
   "cell_type": "markdown",
   "metadata": {},
   "source": [
    "Being good scientists we know however that this is far from a good plot, no axis labels, not line labels. Let's fix that."
   ]
  },
  {
   "cell_type": "code",
   "execution_count": 19,
   "metadata": {
    "collapsed": false
   },
   "outputs": [
    {
     "data": {
      "image/png": "[encoded data removed]",
      "text/plain": [
       "<matplotlib.figure.Figure at 0x107bd6a90>"
      ]
     },
     "metadata": {},
     "output_type": "display_data"
    }
   ],
   "source": [
    "x=numpy.linspace(-numpy.pi,numpy.pi,1000,endpoint=True)\n",
    "c=numpy.cos(x)\n",
    "s=numpy.sin(x)\n",
    "\n",
    "pylab.plot(x,c,label=\"Cosine\",color=\"r\",linestyle=\"--\",linewidth=2)\n",
    "pylab.plot(x,s,label=\"Sine\",color=\"b\",linestyle=\"-.\",linewidth=2)\n",
    "pylab.xlabel(\"X\",fontsize=14)\n",
    "pylab.xlim(-numpy.pi,numpy.pi)\n",
    "pylab.ylabel(\"Y\",fontsize=14)\n",
    "pylab.ylim(-1,1)\n",
    "pylab.legend(fontsize=14,loc=2)\n",
    "pylab.show()"
   ]
  },
  {
   "cell_type": "markdown",
   "metadata": {},
   "source": [
    "The other basic plotting tool that is useful if a histogram. Let's generate some random data and make a histogram, again starting with the defaults and building to something that looks very nice."
   ]
  },
  {
   "cell_type": "code",
   "execution_count": null,
   "metadata": {
    "collapsed": true
   },
   "outputs": [],
   "source": [
    "# Make your log plot beautiful\n"
   ]
  },
  {
   "cell_type": "markdown",
   "metadata": {},
   "source": [
    "The next thing we need to know how to do is histogram.  A histogram is a plot that counts the number of entries in each bin.  For this exercise we'll make some random data, according to poisson distribtuions, to practice with.  Don't worry too much about this line:"
   ]
  },
  {
   "cell_type": "code",
   "execution_count": null,
   "metadata": {
    "collapsed": true
   },
   "outputs": [],
   "source": [
    "import scipy.stats\n",
    "\n",
    "data1=scipy.stats.poisson.rvs(3,size=1000)\n",
    "data2=scipy.stats.poisson.rvs(2,size=1000)\n",
    "data3=scipy.stats.poisson.rvs(1,size=1000)\n",
    "data4=scipy.stats.poisson.rvs(.1,size=1000)\n"
   ]
  },
  {
   "cell_type": "markdown",
   "metadata": {},
   "source": [
    "Now we have some datasets we can make histograms.  If you just tell pylab to histogram the data, it make its best guess at how you want it to look:"
   ]
  },
  {
   "cell_type": "code",
   "execution_count": 20,
   "metadata": {
    "collapsed": false
   },
   "outputs": [
    {
     "data": {
      "image/png": "[encoded data removed]",
      "text/plain": [
       "<matplotlib.figure.Figure at 0x1086924d0>"
      ]
     },
     "metadata": {},
     "output_type": "display_data"
    }
   ],
   "source": [
    "pylab.hist(data1)\n",
    "pylab.hist(data2)\n",
    "pylab.hist(data3)\n",
    "pylab.hist(data4)\n",
    "\n",
    "pylab.show()"
   ]
  },
  {
   "cell_type": "markdown",
   "metadata": {},
   "source": [
    "When matplotlib plots a histogram it makes some decisions about what range to bin the data over and takes 10 bins by default. The result when plotting histograms together over different ranges is something that is difficult to look at. Let's specify the ranges and add a few touches we looked at in the plot example."
   ]
  },
  {
   "cell_type": "code",
   "execution_count": 21,
   "metadata": {
    "collapsed": false
   },
   "outputs": [
    {
     "data": {
      "image/png": "[encoded data removed]",
      "text/plain": [
       "<matplotlib.figure.Figure at 0x1089a5810>"
      ]
     },
     "metadata": {},
     "output_type": "display_data"
    }
   ],
   "source": [
    "data1=scipy.stats.poisson.rvs(3,size=1000)\n",
    "data2=scipy.stats.poisson.rvs(2,size=1000)\n",
    "data3=scipy.stats.poisson.rvs(1,size=1000)\n",
    "data4=scipy.stats.poisson.rvs(.1,size=1000)\n",
    "\n",
    "pylab.hist(data1,range=(0,15),bins=15,histtype='step',label=r'$\\lambda=3$')\n",
    "pylab.hist(data2,range=(0,15),bins=15,histtype='step',label=r'$\\lambda=2$')\n",
    "pylab.hist(data3,range=(0,15),bins=15,histtype='step',label=r'$\\lambda=1$')\n",
    "pylab.hist(data4,range=(0,15),bins=15,histtype='step',label=r'$\\lambda=.1$')\n",
    "\n",
    "pylab.xlabel(\"Data\",fontsize=14)\n",
    "pylab.ylabel(\"Counts\",fontsize=14)\n",
    "pylab.legend(fontsize=14,loc=1)\n",
    "pylab.show()"
   ]
  },
  {
   "cell_type": "markdown",
   "metadata": {},
   "source": [
    "# Exercises"
   ]
  },
  {
   "cell_type": "markdown",
   "metadata": {},
   "source": [
    "Take a look back at yesterdays plot of the fibonacci spiral.  See if you understand it all."
   ]
  },
  {
   "cell_type": "code",
   "execution_count": 24,
   "metadata": {
    "collapsed": false
   },
   "outputs": [
    {
     "data": {
      "text/plain": [
       "<matplotlib.text.Text at 0x1070a2110>"
      ]
     },
     "execution_count": 24,
     "metadata": {},
     "output_type": "execute_result"
    },
    {
     "data": {
      "image/png": "[encoded data removed]",
      "text/plain": [
       "<matplotlib.figure.Figure at 0x107014190>"
      ]
     },
     "metadata": {},
     "output_type": "display_data"
    }
   ],
   "source": [
    "#This was calculated yesterday\n",
    "golden_ratio=1.618\n",
    "\n",
    "# Make a list of theta values corresponding to 3 rotations\n",
    "theta_values = numpy.arange(0, 6*numpy.pi, 0.1)\n",
    "\n",
    "# A golden spiral has a radius that grows as it rotates,\n",
    "#  with a rate that depends on the golden ratio:\n",
    "spiral_growth_factor = numpy.log(golden_ratio)/(numpy.pi/2.)\n",
    "r_values = numpy.exp(spiral_growth_factor*theta_values)\n",
    "\n",
    "# Get the x and y values\n",
    "x_values = r_values * numpy.sin(theta_values)\n",
    "y_values = r_values * numpy.cos(theta_values)\n",
    "\n",
    "# make a plot\n",
    "pylab.figure(figsize=(5,5))\n",
    "pylab.plot(x_values,y_values)\n",
    "pylab.xlim(-400,400)\n",
    "pylab.ylim(-400,400)\n",
    "pylab.xlabel(\"X\")\n",
    "pylab.ylabel(\"Y\")\n",
    "pylab.title(\"The Golden Spiral\")"
   ]
  },
  {
   "cell_type": "code",
   "execution_count": null,
   "metadata": {
    "collapsed": true
   },
   "outputs": [],
   "source": [
    "# Add another golden spiral over the top of the first one, spinning the oposite direction\n"
   ]
  },
  {
   "cell_type": "code",
   "execution_count": 58,
   "metadata": {
    "collapsed": false
   },
   "outputs": [],
   "source": [
    "# Plot the ratio of the fibonacci numbers vs the depth into the sequence for the first 30.  \n"
   ]
  },
  {
   "cell_type": "code",
   "execution_count": 61,
   "metadata": {
    "collapsed": false
   },
   "outputs": [],
   "source": [
    "# Histogram the ratios of the first 30 in the sequence.  \n",
    "# Use bins of width 0.01 between 1.6 and 1.7 for the histogram\n"
   ]
  }
 ],
 "metadata": {
  "kernelspec": {
   "display_name": "Python 2",
   "language": "python",
   "name": "python2"
  },
  "language_info": {
   "codemirror_mode": {
    "name": "ipython",
    "version": 2
   },
   "file_extension": ".py",
   "mimetype": "text/x-python",
   "name": "python",
   "nbconvert_exporter": "python",
   "pygments_lexer": "ipython2",
   "version": "2.7.11"
  }
 },
 "nbformat": 4,
 "nbformat_minor": 0
}
