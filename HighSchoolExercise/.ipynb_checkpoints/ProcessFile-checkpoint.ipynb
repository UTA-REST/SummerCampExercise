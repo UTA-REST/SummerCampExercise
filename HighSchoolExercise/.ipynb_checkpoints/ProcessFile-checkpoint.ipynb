{
 "cells": [
  {
   "cell_type": "code",
   "execution_count": 23,
   "metadata": {
    "collapsed": true
   },
   "outputs": [],
   "source": [
    "#Imports etc\n",
    "import matplotlib \n",
    "import numpy\n",
    "import pylab\n",
    "%matplotlib inline\n"
   ]
  },
  {
   "cell_type": "code",
   "execution_count": 24,
   "metadata": {
    "collapsed": true
   },
   "outputs": [],
   "source": [
    "Leptons=numpy.loadtxt(\"leptons.txt\")\n",
    "Muons=numpy.loadtxt(\"muons.txt\")\n",
    "Electrons=numpy.loadtxt(\"electrons.txt\")\n",
    "\n",
    "# 0) event number\n",
    "# 1) run number\n",
    "# 2) particle 1 P_x\n",
    "# 3) particle 1 P_y\n",
    "# 4) particle 1 P_z\n",
    "# 5) particle 1 E\n",
    "# 6) particle 1 charge\n",
    "# 7) particle 2 P_x\n",
    "# 8) particle 2 P_y\n",
    "# 9) particle 2 P_z\n",
    "# 10) particle 2 E\n",
    "# 11) particle 2 charge\n",
    "\n"
   ]
  },
  {
   "cell_type": "code",
   "execution_count": 25,
   "metadata": {
    "collapsed": false
   },
   "outputs": [],
   "source": [
    "Events=[]\n",
    "for p in Leptons:\n",
    "    Event=[p[0],p[1],p[2]/1000.,p[3]/1000.,p[4]/1000.,p[5]/1000.,p[6],-11*p[6],p[7]/1000.,p[8]/1000.,p[9]/1000.,p[10]/1000.,p[11],-13*p[11]]\n",
    "    Events.append(Event)\n",
    "for p in Electrons:\n",
    "    Event=[p[0],p[1],p[2]/1000.,p[3]/1000.,p[4]/1000.,p[5]/1000.,p[6],-11*p[6],p[7]/1000.,p[8]/1000.,p[9]/1000.,p[10]/1000.,p[11],-11*p[11]]\n",
    "    Events.append(Event)\n",
    "for p in Muons:\n",
    "    Event=[p[0],p[1],p[2]/1000.,p[3]/1000.,p[4]/1000.,p[5]/1000.,p[6],-13*p[6],p[7]/1000.,p[8]/1000.,p[9]/1000.,p[10]/1000.,p[11],-13*p[11]]\n",
    "    Events.append(Event)\n",
    "#numpy.random.shuffle(numpy.array(Events))"
   ]
  },
  {
   "cell_type": "code",
   "execution_count": 26,
   "metadata": {
    "collapsed": false
   },
   "outputs": [
    {
     "data": {
      "text/plain": [
       "[67537541.0,\n",
       " 212663.0,\n",
       " -9.6541499999999996,\n",
       " -10.9978,\n",
       " -0.123227,\n",
       " 14.634600000000001,\n",
       " 1.0,\n",
       " -11.0,\n",
       " -42.143999999999998,\n",
       " 16.159099999999999,\n",
       " -67.042600000000007,\n",
       " 80.820499999999996,\n",
       " -1.0,\n",
       " 13.0]"
      ]
     },
     "execution_count": 26,
     "metadata": {},
     "output_type": "execute_result"
    }
   ],
   "source": [
    "Events[0]\n"
   ]
  },
  {
   "cell_type": "code",
   "execution_count": 27,
   "metadata": {
    "collapsed": true
   },
   "outputs": [],
   "source": [
    "numpy.random.shuffle(Events)"
   ]
  },
  {
   "cell_type": "code",
   "execution_count": 28,
   "metadata": {
    "collapsed": false
   },
   "outputs": [],
   "source": [
    "numpy.savetxt(\"Events.txt\",Events)"
   ]
  },
  {
   "cell_type": "code",
   "execution_count": null,
   "metadata": {
    "collapsed": true
   },
   "outputs": [],
   "source": []
  }
 ],
 "metadata": {
  "kernelspec": {
   "display_name": "Python 2",
   "language": "python",
   "name": "python2"
  },
  "language_info": {
   "codemirror_mode": {
    "name": "ipython",
    "version": 2
   },
   "file_extension": ".py",
   "mimetype": "text/x-python",
   "name": "python",
   "nbconvert_exporter": "python",
   "pygments_lexer": "ipython2",
   "version": "2.7.11"
  }
 },
 "nbformat": 4,
 "nbformat_minor": 0
}
