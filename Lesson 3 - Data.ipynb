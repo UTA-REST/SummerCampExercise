{
 "cells": [
  {
   "cell_type": "code",
   "execution_count": 1,
   "metadata": {
    "collapsed": true
   },
   "outputs": [],
   "source": [
    "#Imports etc\n",
    "import matplotlib \n",
    "import numpy\n",
    "import pylab\n",
    "%matplotlib inline"
   ]
  },
  {
   "cell_type": "markdown",
   "metadata": {},
   "source": [
    "Our goal today will be to study real LHC data. We processed it a bit for you, before you arrived.  We have picked out only events with at least two reconstructed leptons (electron or muon or antielectron or antimuon).  In every event we stored into a file the reconstructed energy and momentum of the most energetic two."
   ]
  },
  {
   "cell_type": "code",
   "execution_count": 2,
   "metadata": {},
   "outputs": [],
   "source": [
    "# First we have to open the file:\n",
    "Events=numpy.loadtxt(\"Events.txt\")"
   ]
  },
  {
   "cell_type": "markdown",
   "metadata": {},
   "source": [
    "This file is a list of numbers reconstructed from each event by complicated software of the ATLAS detector.\n",
    "\n",
    "Actually, with the full ATLAS event description, every event is described by around 100,000 numbers.  We pulled out only the 14 most useful numbers for this exercise.  In each event particle 1 is the reconstructed lepton with the highest pT, and particle 2 has the second highest.  The numbers we stored are:\n",
    "\n",
    "0) event number\n",
    "\n",
    "1) run number\n",
    "\n",
    "2) particle 1 P_x\n",
    "\n",
    "3) particle 1 P_y\n",
    "\n",
    "4) particle 1 P_z\n",
    "\n",
    "5) particle 1 E\n",
    "\n",
    "6) particle 1 charge\n",
    "\n",
    "7) particle 1 ID\n",
    "\n",
    "8) particle 2 P_x\n",
    "\n",
    "9) particle 2 P_y\n",
    "\n",
    "10) particle 2 P_z\n",
    "\n",
    "11) particle 2 E\n",
    "\n",
    "12) particle 2 charge\n",
    "\n",
    "13) particle 2 ID\n",
    "\n"
   ]
  },
  {
   "cell_type": "markdown",
   "metadata": {},
   "source": [
    "The events are just stored in a big numpy array.  Lets see how many events there are:"
   ]
  },
  {
   "cell_type": "code",
   "execution_count": 3,
   "metadata": {},
   "outputs": [
    {
     "name": "stdout",
     "output_type": "stream",
     "text": [
      "16185\n"
     ]
    }
   ],
   "source": [
    "print(len(Events))"
   ]
  },
  {
   "cell_type": "markdown",
   "metadata": {},
   "source": [
    "And lets look at the list of numbers in the first one:"
   ]
  },
  {
   "cell_type": "code",
   "execution_count": 4,
   "metadata": {},
   "outputs": [
    {
     "name": "stdout",
     "output_type": "stream",
     "text": [
      "[  1.14232136e+08   2.13092000e+05  -1.02517000e+02  -5.29920000e+01\n",
      "  -2.97382000e+01   1.19173000e+02  -1.00000000e+00   1.30000000e+01\n",
      "  -9.12436000e+00  -1.24009000e+01  -5.58065000e+01   5.78914000e+01\n",
      "   1.00000000e+00  -1.30000000e+01]\n"
     ]
    }
   ],
   "source": [
    "print (Events[0])"
   ]
  },
  {
   "cell_type": "code",
   "execution_count": 8,
   "metadata": {},
   "outputs": [],
   "source": [
    "# Exercise : Look up the energy of the highest pT lepton in the \n",
    "# 9th event (event number 9)\n"
   ]
  },
  {
   "cell_type": "code",
   "execution_count": 14,
   "metadata": {
    "collapsed": true
   },
   "outputs": [],
   "source": [
    "# Exercise : Look up the charge of the second highest pT lepton \n",
    "# in the 1000th event\n"
   ]
  },
  {
   "cell_type": "code",
   "execution_count": 27,
   "metadata": {},
   "outputs": [],
   "source": [
    "# Exercise : Histogram the energy of the highest pT leptons\n",
    "#            Histogram the energy of the next highest pT leptons\n",
    "#            use 100 bins between 0 and 1000 GeV\n",
    "#            show both histograms on the same plot\n",
    "#            label axes and add a legend\n"
   ]
  },
  {
   "cell_type": "code",
   "execution_count": 16,
   "metadata": {},
   "outputs": [],
   "source": [
    "# Exercise : How many events have first and second leptons with +ve charge?\n",
    "#            How many with both -ve?\n",
    "#            How many +-?  How many -+?\n",
    "#            Which are the most common categories?\n"
   ]
  },
  {
   "cell_type": "markdown",
   "metadata": {},
   "source": [
    "In particle physics we use special number codes for different particle types.  The list of codes is maintained by the Particle Data Group, so we call them PDG ID's.  Here is the full list of PDG IDs:\n",
    "\n",
    "http://pdg.lbl.gov/2007/reviews/montecarlorpp.pdf\n",
    "\n",
    "Look up the ID for electrons and muons, then try the next exercise. Note that particles have +ve PDG and antiparticles have negative ones.  You can turn them all positive using the abs() command."
   ]
  },
  {
   "cell_type": "code",
   "execution_count": null,
   "metadata": {},
   "outputs": [],
   "source": [
    "# Exercise : Separate the events into three sets\n",
    "#             1) Events with two muons or antimuons\n",
    "#             2) Events with two electrons or positrons\n",
    "#             3) Events with one muon/antimuon and one electron/positron\n",
    "#            Put each set into a new list\n",
    "#            How many are in each category?\n"
   ]
  },
  {
   "cell_type": "markdown",
   "metadata": {
    "collapsed": true
   },
   "source": [
    "In python, it is possible to save the array easily to a text file. For example, the line below re-saves the full events array to a text file called EventsNew.txt"
   ]
  },
  {
   "cell_type": "code",
   "execution_count": 28,
   "metadata": {
    "collapsed": true
   },
   "outputs": [],
   "source": [
    "numpy.savetxt(\"EventsNew.txt\",Events)"
   ]
  },
  {
   "cell_type": "code",
   "execution_count": null,
   "metadata": {
    "collapsed": true
   },
   "outputs": [],
   "source": [
    "# Exercise : Save to three text files, the contents of your separated\n",
    "#            sets of particles.  We will use these tomorrow to search for \n",
    "#            new particles.\n"
   ]
  },
  {
   "cell_type": "code",
   "execution_count": null,
   "metadata": {
    "collapsed": true
   },
   "outputs": [],
   "source": [
    "# Open exercise : Explore the LHC data! Make plots of various\n",
    "#                  quantities and look for interesting effects.\n",
    "#\n",
    "#            Ideas:\n",
    "#               Do events with two muons or two electrons have different\n",
    "#                 properties to events with one of each?\n",
    "#\n",
    "#               What types of events have mostly same-charge particles in?\n",
    "#\n",
    "#               Do the energies of the same-sign events look similar\n",
    "#                 to the energies of the different-sign events?"
   ]
  }
 ],
 "metadata": {
  "kernelspec": {
   "display_name": "Python 3",
   "language": "python",
   "name": "python3"
  },
  "language_info": {
   "codemirror_mode": {
    "name": "ipython",
    "version": 3
   },
   "file_extension": ".py",
   "mimetype": "text/x-python",
   "name": "python",
   "nbconvert_exporter": "python",
   "pygments_lexer": "ipython3",
   "version": "3.6.5"
  }
 },
 "nbformat": 4,
 "nbformat_minor": 1
}
