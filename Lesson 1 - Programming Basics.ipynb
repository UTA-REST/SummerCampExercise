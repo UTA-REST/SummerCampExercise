{
 "cells": [
  {
   "cell_type": "markdown",
   "metadata": {},
   "source": [
    "# Introduction to Programming in Python"
   ]
  },
  {
   "cell_type": "markdown",
   "metadata": {},
   "source": [
    "Welcome to an ipython notebook!  It lets you write computer code in the python programming language, and run it in blocks\n",
    "\n"
   ]
  },
  {
   "cell_type": "code",
   "execution_count": null,
   "metadata": {},
   "outputs": [],
   "source": [
    "\n",
    "# Lines that start with a hash sign like these are comments.  The python interpretter\n",
    "# ignores them.  You can write as many as you want.  Comments are usually used to \n",
    "# remind you, and explain to others, what your code does. Good programmers place \n",
    "# comments throughout their code to document it."
   ]
  },
  {
   "cell_type": "code",
   "execution_count": null,
   "metadata": {},
   "outputs": [],
   "source": [
    "# This is the second block of code in the notebook. The first block did not actually do\n",
    "# anything - it was all comments.  This block does something, though. You can run it with \n",
    "# shift+enter.  \n",
    "\n",
    "print(\"The first line of code!\")"
   ]
  },
  {
   "cell_type": "code",
   "execution_count": null,
   "metadata": {},
   "outputs": [],
   "source": [
    "# In this block, make the program output \"the second line of code!\"\n"
   ]
  },
  {
   "cell_type": "code",
   "execution_count": null,
   "metadata": {},
   "outputs": [],
   "source": [
    "# OK.  We can also to simple math.  Like adding two numbers\n",
    "\n",
    "print(1+3)\n",
    "print(3*34)"
   ]
  },
  {
   "cell_type": "code",
   "execution_count": null,
   "metadata": {},
   "outputs": [],
   "source": [
    "# Those were whole numbers (integers, or ints)  We can do non-whole ones (floats) too:\n",
    "\n",
    "print(3.4*33.5)"
   ]
  },
  {
   "cell_type": "code",
   "execution_count": null,
   "metadata": {},
   "outputs": [],
   "source": [
    "print(5/2)\n"
   ]
  },
  {
   "cell_type": "markdown",
   "metadata": {},
   "source": [
    "Great. Now we're programming. The next thing we need to know about are variables. A variable is a container that stores something.  In almost all programming langauges, variables can store numbers, strings, or complicated programming objects. To fill, or \"assign\" a variable, use the \"=\" sign.\n",
    "\n"
   ]
  },
  {
   "cell_type": "code",
   "execution_count": null,
   "metadata": {},
   "outputs": [],
   "source": [
    "\n",
    "a=5\n",
    "print(a+1)"
   ]
  },
  {
   "cell_type": "code",
   "execution_count": null,
   "metadata": {},
   "outputs": [],
   "source": [
    "# In this block, define two variables b and c containing numbers 5 and 6, and print their sum\n"
   ]
  },
  {
   "cell_type": "code",
   "execution_count": null,
   "metadata": {},
   "outputs": [],
   "source": [
    "# Print their ratio.\n"
   ]
  },
  {
   "cell_type": "code",
   "execution_count": null,
   "metadata": {},
   "outputs": [],
   "source": [
    "\n",
    "d=\"These variables contain\"\n",
    "e=\" strings\"\n",
    "print(d+e)"
   ]
  },
  {
   "cell_type": "markdown",
   "metadata": {},
   "source": [
    "Python is special among programming languages because it is \"typless\".  You don't have to tell is what a variable will contain, you just assign it.   For example, a line of text, or a \"string\", can be put into a variable with quotes \"\""
   ]
  },
  {
   "cell_type": "code",
   "execution_count": null,
   "metadata": {},
   "outputs": [],
   "source": [
    "# You can print several things on one line:\n",
    "print(\"The variable (a) contains\",a, \"and the next number is\", a+1 )"
   ]
  },
  {
   "cell_type": "code",
   "execution_count": null,
   "metadata": {},
   "outputs": [],
   "source": [
    "# Write a line of code like the one above to tell us b, c and their sum\n"
   ]
  },
  {
   "cell_type": "code",
   "execution_count": null,
   "metadata": {},
   "outputs": [],
   "source": [
    "# Write a line of code like the one above to tell us b, c and their product\n"
   ]
  },
  {
   "cell_type": "code",
   "execution_count": null,
   "metadata": {},
   "outputs": [],
   "source": [
    "# Consider a right angle triangle with side lenghts b and c.  Write code to\n",
    "# tell us the length of the hypotenuse\n",
    "#  note, powers can be evaluated with pow(b,c).  For example, square root of a is pow(a,0.5)\n"
   ]
  },
  {
   "cell_type": "code",
   "execution_count": null,
   "metadata": {},
   "outputs": [],
   "source": [
    "# Change the value of b by executing this line, and re-run the above 3 blocks\n",
    "b=11.3453643"
   ]
  },
  {
   "cell_type": "code",
   "execution_count": null,
   "metadata": {},
   "outputs": [],
   "source": [
    "# A particle has the following velocity components:\n",
    "#  vx is 3 ms^-1\n",
    "#  vy is 4 ms^-1\n",
    "#  vz is 9 ms^-1\n",
    "# Store these in variables. Write code to evaluate the total speed and print it to screen.\n"
   ]
  },
  {
   "cell_type": "markdown",
   "metadata": {},
   "source": [
    "# Flow control (if)"
   ]
  },
  {
   "cell_type": "markdown",
   "metadata": {},
   "source": [
    "An important component of computer programs is the if statement.  If statements work like this.  Notice the indentation - the first indented block is what gets run, if the test statement evaluares true. The second is what runs if it evaluates false:"
   ]
  },
  {
   "cell_type": "code",
   "execution_count": null,
   "metadata": {},
   "outputs": [],
   "source": [
    "\n",
    "a=1\n",
    "b=5\n",
    "\n",
    "if(a>b): \n",
    "    print(\"a is bigger than b!\")\n",
    "else:\n",
    "    print(\"a is smaller than b!\")"
   ]
  },
  {
   "cell_type": "markdown",
   "metadata": {},
   "source": [
    "In python, program flow is all controlled by indentation:\n",
    "\n"
   ]
  },
  {
   "cell_type": "code",
   "execution_count": null,
   "metadata": {},
   "outputs": [],
   "source": [
    "print(\"test 1...\")\n",
    "\n",
    "if(a<b): \n",
    "    print(\"yes it is!\")\n",
    "if(a>b): \n",
    "    print(\"no it isn't!\")"
   ]
  },
  {
   "cell_type": "code",
   "execution_count": null,
   "metadata": {},
   "outputs": [],
   "source": [
    "print(\"test 2...\")\n",
    "\n",
    "if(a<b): \n",
    "    print(\"yes it is!\")\n",
    "    if(a>b): \n",
    "        print(\"no it isn't!\")"
   ]
  },
  {
   "cell_type": "code",
   "execution_count": null,
   "metadata": {},
   "outputs": [],
   "source": [
    "print(\"test 3...\")\n",
    "\n",
    "if(a<b): \n",
    "print(\"yes it is!\")\n",
    "if(a>b): \n",
    "print(\"no it isn't!\")"
   ]
  },
  {
   "cell_type": "code",
   "execution_count": null,
   "metadata": {},
   "outputs": [],
   "source": [
    "# Write code to test if a*b is bigger than 6 and write the answer to screen.\n"
   ]
  },
  {
   "cell_type": "code",
   "execution_count": null,
   "metadata": {},
   "outputs": [],
   "source": [
    "# change the values of a and b to get the oposite answer, and re-run the code above.\n"
   ]
  },
  {
   "cell_type": "code",
   "execution_count": null,
   "metadata": {},
   "outputs": [],
   "source": [
    "# Write code to test whether the particle with velocity defined above is going\n",
    "# forwards or backwards in z, and write the answer to the screen.\n"
   ]
  },
  {
   "cell_type": "markdown",
   "metadata": {},
   "source": [
    "We used > to test if a was bigger than b.\n",
    "Other comparative statements look like this:\n",
    "\n",
    " == (Equal) \n",
    " \n",
    " != (Not Equal) \n",
    " \n",
    " < (Less) \n",
    " \n",
    " \\> (Greater)      \n",
    " \n",
    " <= (Less than or equal)\n",
    " \n",
    " \\>= (Greater than or equal)\n",
    " \n",
    "\n"
   ]
  },
  {
   "cell_type": "code",
   "execution_count": null,
   "metadata": {},
   "outputs": [],
   "source": [
    "\n",
    "print(\"1==3\", (1==3))\n",
    "print(\"1==1\", (1==1))\n",
    "print(\"1>1\", (1>1))\n",
    "print(\"1>=1\", (1>=1))\n",
    "print(\"1>3\", (1>1))\n",
    "print(\"1!=1\", (1!=1))\n",
    "print(\"1!=3\", (1!=3))\n",
    "\n",
    "print(\"-----\")\n",
    "\n",
    "if 1!=1:\n",
    "    print(\"It is True that 1!=1\")\n",
    "else:\n",
    "    print(\"It is False that 1!=1\")\n",
    "    \n",
    "if 1!=3:\n",
    "    print(\"It is True that 1!=3\")\n",
    "else:\n",
    "    print(\"It is False that 1!=3\" )"
   ]
  },
  {
   "cell_type": "markdown",
   "metadata": {},
   "source": [
    "# Lists"
   ]
  },
  {
   "cell_type": "code",
   "execution_count": null,
   "metadata": {},
   "outputs": [],
   "source": [
    "# As well as simple numbers, variables can also store lists of numbers.  A list\n",
    "#  in python looks like this:\n",
    "\n",
    "a=[10,20,30,40]\n",
    "print(a)"
   ]
  },
  {
   "cell_type": "code",
   "execution_count": null,
   "metadata": {},
   "outputs": [],
   "source": [
    "# You can access elements of arrays like this.  The first element is always index 0.\n",
    "\n",
    "print(a[0])\n",
    "print(a[3])"
   ]
  },
  {
   "cell_type": "code",
   "execution_count": null,
   "metadata": {},
   "outputs": [],
   "source": [
    "# You can also \"slice\" out parts of a list, like this:\n",
    "\n",
    "print(a[0:3])\n",
    "print(a[1:2])"
   ]
  },
  {
   "cell_type": "code",
   "execution_count": null,
   "metadata": {},
   "outputs": [],
   "source": [
    "# Index -1 means take the last element (-2 means econd last, etc).  Leaving it blank before or \n",
    "# after the : means slice to the end.\n",
    "\n",
    "print(a[2:])\n",
    "print(a[0:-2])\n",
    "print(a[:2])"
   ]
  },
  {
   "cell_type": "code",
   "execution_count": null,
   "metadata": {},
   "outputs": [],
   "source": [
    "# Starting from the list below, slice out:\n",
    "#  a) elements 2 to 6\n",
    "#  b) element 2 to end\n",
    "#  c) the third last to the last element\n",
    "\n",
    "the_list=[\"dog\",\"cat\",\"parrot\",\"T-Rex\",\"liger\",\"a llama\",\"The Dalai Lama\",\"sheep\"]"
   ]
  },
  {
   "cell_type": "code",
   "execution_count": null,
   "metadata": {},
   "outputs": [],
   "source": [
    "# The length of a list can be obtained with the len() keyword:\n",
    "\n",
    "print(len(a))"
   ]
  },
  {
   "cell_type": "code",
   "execution_count": null,
   "metadata": {},
   "outputs": [],
   "source": [
    "# You don't always have to define lists by hand.  The range command makes a list like this:\n",
    "\n",
    "b=range(0,10)\n",
    "print(b[5])"
   ]
  },
  {
   "cell_type": "code",
   "execution_count": null,
   "metadata": {},
   "outputs": [],
   "source": [
    "c=range(99, 109)\n",
    "print(c[5])"
   ]
  },
  {
   "cell_type": "code",
   "execution_count": null,
   "metadata": {},
   "outputs": [],
   "source": [
    "a=[]\n",
    "a.append(5)\n",
    "print(a)\n",
    "a.append(7)\n",
    "print(a)"
   ]
  },
  {
   "cell_type": "markdown",
   "metadata": {},
   "source": [
    "# Loops (for)"
   ]
  },
  {
   "cell_type": "code",
   "execution_count": null,
   "metadata": {},
   "outputs": [],
   "source": [
    "# Arrays can also be used to make loops using the for command.  It works like this:\n",
    "for i in range(0,10):\n",
    "    print( \"i=\"+str(i)+ \" and i^2=\"+str( pow(i,2)))"
   ]
  },
  {
   "cell_type": "code",
   "execution_count": null,
   "metadata": {},
   "outputs": [],
   "source": [
    "# In programming, there are usually several ways to do the same thing. Consider this list:\n",
    "animals=[\"cat\",\"dog\",\"bear\",\"duck\",\"unicorn\"]\n"
   ]
  },
  {
   "cell_type": "code",
   "execution_count": null,
   "metadata": {},
   "outputs": [],
   "source": [
    "#These two pieces of code serve the same function, for example\n",
    "print(\"Method 1:\")\n",
    "String = \"\"\n",
    "for a in animals:\n",
    "    String =String + a + \" and \"\n",
    "print (String+\"the rest\")"
   ]
  },
  {
   "cell_type": "code",
   "execution_count": null,
   "metadata": {},
   "outputs": [],
   "source": [
    "print(\"Method 2:\")\n",
    "String = \"\"\n",
    "for i in range(0, len(animals)):\n",
    "    String += animals[i]\n",
    "    String += \" and \"\n",
    "String+=\"  the rest\"\n",
    "print(String)\n",
    "    "
   ]
  },
  {
   "cell_type": "markdown",
   "metadata": {},
   "source": [
    "There are a lot more python commands than the ones we just taught you.  There are also a lot of packages that extend pythons functionality for complicated math, and plotting. We will look at some of these tomorrow.  But with these basic ingredients : math, printing, lists, loops, flow control, we will be able to write programs to search for new particles in LHC data.  We'll finish up with an exercise to practice looping and and math:"
   ]
  },
  {
   "cell_type": "code",
   "execution_count": null,
   "metadata": {},
   "outputs": [],
   "source": [
    "# Exercise: Write code to evaluate the first 100 fibonacci numbers.\n",
    "# Print the number, and the ratio of the nth and (n+1)th number to the screen\n",
    "# Save the 99th ratio to a variable called \"golden_ratio\"\n",
    "\n",
    "golden_ratio=1.5 #replace me!"
   ]
  },
  {
   "cell_type": "code",
   "execution_count": null,
   "metadata": {},
   "outputs": [],
   "source": [
    "# Don't worry about what this block does, just run it for now. We'll talk about\n",
    "# it tomorrow.\n",
    "import numpy\n",
    "import matplotlib\n",
    "import pylab\n",
    "%matplotlib inline\n"
   ]
  },
  {
   "cell_type": "code",
   "execution_count": null,
   "metadata": {},
   "outputs": [],
   "source": [
    "# Now we'll draw the golden spiral using the golden ratio you calculated.\n",
    "\n",
    "# Make a list of theta values corresponding to 3 rotations\n",
    "theta_values = numpy.arange(0, 6*numpy.pi, 0.1)\n",
    "\n",
    "# A golden spiral has a radius that grows as it rotates,\n",
    "#  with a rate that depends on the golden ratio:\n",
    "spiral_growth_factor = numpy.log(golden_ratio)/(numpy.pi/2.)\n",
    "r_values = numpy.exp(spiral_growth_factor*theta_values)\n",
    "\n",
    "# Get the x and y values\n",
    "x_values = r_values * numpy.sin(theta_values)\n",
    "y_values = r_values * numpy.cos(theta_values)\n",
    "\n",
    "# make a plot\n",
    "pylab.figure(figsize=(5,5))\n",
    "pylab.plot(x_values,y_values,'.')\n",
    "pylab.xlim(-400,400)\n",
    "pylab.ylim(-400,400)\n",
    "pylab.xlabel(\"X\")\n",
    "pylab.ylabel(\"Y\")\n",
    "pylab.title(\"The Golden Spiral\")"
   ]
  },
  {
   "cell_type": "markdown",
   "metadata": {},
   "source": [
    "This is a very interesting spiral indeed.\n",
    "\n",
    "http://www.goldennumber.net/wp-content/uploads/2013/08/nautilus-shell-with-golden-ratio-spiral-overlay.gif\n",
    "\n",
    "https://i.kinja-img.com/gawker-media/image/upload/s--rJC4FAZh--/c_fit,fl_progressive,q_80,w_636/18f8hbfn5ag1yjpg.jpg"
   ]
  },
  {
   "cell_type": "code",
   "execution_count": null,
   "metadata": {},
   "outputs": [],
   "source": []
  },
  {
   "cell_type": "code",
   "execution_count": null,
   "metadata": {},
   "outputs": [],
   "source": []
  }
 ],
 "metadata": {
  "kernelspec": {
   "display_name": "Python 3",
   "language": "python",
   "name": "python3"
  },
  "language_info": {
   "codemirror_mode": {
    "name": "ipython",
    "version": 3
   },
   "file_extension": ".py",
   "mimetype": "text/x-python",
   "name": "python",
   "nbconvert_exporter": "python",
   "pygments_lexer": "ipython3",
   "version": "3.6.5"
  }
 },
 "nbformat": 4,
 "nbformat_minor": 1
}
